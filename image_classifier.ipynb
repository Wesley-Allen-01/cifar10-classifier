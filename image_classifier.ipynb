{
  "cells": [
    {
      "cell_type": "code",
      "execution_count": 68,
      "metadata": {
        "id": "SaaAXJYKkTDM"
      },
      "outputs": [],
      "source": [
        "import torch\n",
        "import torchvision\n",
        "import torchvision.transforms as transforms\n",
        "import torch.optim as optim\n",
        "import torch.nn as nn\n",
        "import torch.nn.functional as F\n",
        "import os\n",
        "import time\n",
        "import matplotlib.pyplot as plt"
      ]
    },
    {
      "cell_type": "code",
      "execution_count": 69,
      "metadata": {
        "colab": {
          "base_uri": "https://localhost:8080/"
        },
        "id": "2cnpEUvIkTDN",
        "outputId": "2f56828a-8b27-4d02-aac1-b6fb251cc241"
      },
      "outputs": [
        {
          "output_type": "execute_result",
          "data": {
            "text/plain": [
              "2"
            ]
          },
          "metadata": {},
          "execution_count": 69
        }
      ],
      "source": [
        "os.cpu_count()"
      ]
    },
    {
      "cell_type": "code",
      "execution_count": 70,
      "metadata": {
        "id": "ZXUj_sMvkTDN"
      },
      "outputs": [],
      "source": [
        "transform = transforms.Compose([\n",
        "    transforms.RandomHorizontalFlip(),\n",
        "    transforms.RandomCrop(32, padding=4),\n",
        "    transforms.ToTensor(),\n",
        "    transforms.Normalize((0.4914, 0.4822, 0.4465), (0.247, 0.243, 0.261))\n",
        "])"
      ]
    },
    {
      "cell_type": "code",
      "execution_count": 71,
      "metadata": {
        "colab": {
          "base_uri": "https://localhost:8080/"
        },
        "id": "qq0fPrUtkTDN",
        "outputId": "15169d3b-585c-46b2-8a50-1c97e63ca3fc"
      },
      "outputs": [
        {
          "output_type": "stream",
          "name": "stdout",
          "text": [
            "Files already downloaded and verified\n",
            "Files already downloaded and verified\n"
          ]
        }
      ],
      "source": [
        "train_data = torchvision.datasets.CIFAR10(\n",
        "    root = './data', train=True, download=True, transform=transform\n",
        ")\n",
        "\n",
        "test_data = torchvision.datasets.CIFAR10(\n",
        "    root = './data', train=False, download=True, transform=transform\n",
        ")"
      ]
    },
    {
      "cell_type": "code",
      "execution_count": 72,
      "metadata": {
        "id": "brKFE5_kkTDN"
      },
      "outputs": [],
      "source": [
        "train_loader = torch.utils.data.DataLoader(\n",
        "    train_data, batch_size=64, shuffle=True, num_workers=2, pin_memory=True\n",
        ")\n",
        "\n",
        "test_loader = torch.utils.data.DataLoader(\n",
        "    test_data, batch_size=64, shuffle=True, num_workers=2, pin_memory=True\n",
        ")"
      ]
    },
    {
      "cell_type": "code",
      "execution_count": 73,
      "metadata": {
        "id": "imXngXLfkTDN"
      },
      "outputs": [],
      "source": [
        "class CNN(nn.Module):\n",
        "    def __init__(self):\n",
        "        super(CNN, self).__init__()\n",
        "        self.conv1 = nn.Conv2d(3, 32, kernel_size=3, padding=1)\n",
        "        self.bn1 = nn.BatchNorm2d(32)\n",
        "        self.conv2 = nn.Conv2d(32, 64, kernel_size=3, padding=1)\n",
        "        self.bn2 = nn.BatchNorm2d(64)\n",
        "        self.conv3 = nn.Conv2d(64, 64, kernel_size=3, padding=1)\n",
        "        self.bn3 = nn.BatchNorm2d(64)\n",
        "        self.pool = nn.MaxPool2d(kernel_size=2, stride=2)\n",
        "        self.fc1 = nn.Linear(64*4*4, 512)\n",
        "        self.fc2 = nn.Linear(512, 10)\n",
        "\n",
        "\n",
        "    def forward(self, x):\n",
        "        x = self.pool(F.relu(self.bn1(self.conv1(x))))\n",
        "        x = self.pool(F.relu(self.bn2(self.conv2(x))))\n",
        "        x = self.pool(F.relu(self.bn3(self.conv3(x))))\n",
        "        x = x.view(x.size(0), -1)\n",
        "        x = F.relu(self.fc1(x))\n",
        "        x = self.fc2(x)\n",
        "        return x"
      ]
    },
    {
      "cell_type": "code",
      "execution_count": 74,
      "metadata": {
        "id": "4uZvhYvokTDO"
      },
      "outputs": [],
      "source": [
        "device = torch.device('cuda' if torch.cuda.is_available() else 'cpu')\n",
        "model = CNN().to(device)\n",
        "criterion = nn.CrossEntropyLoss()\n",
        "optimizer = optim.Adam(model.parameters(), lr=0.0001)"
      ]
    },
    {
      "cell_type": "code",
      "execution_count": 75,
      "metadata": {
        "id": "nalHIkXJkTDO"
      },
      "outputs": [],
      "source": [
        "def train_model(model, train_loader, criterion, optimizer, num_epochs=10):\n",
        "    loss_list = []\n",
        "    acc_list = []\n",
        "    for epoch in range(num_epochs):\n",
        "        model.train()\n",
        "        running_loss = 0.0\n",
        "        correct = 0\n",
        "        total = 0\n",
        "        for inputs, labels in train_loader:\n",
        "            inputs, labels = inputs.to(device), labels.to(device)\n",
        "            optimizer.zero_grad()\n",
        "            outputs = model(inputs)\n",
        "            loss = criterion(outputs, labels)\n",
        "            loss.backward()\n",
        "            optimizer.step()\n",
        "            running_loss += loss.item()\n",
        "\n",
        "            _, predicted = outputs.max(1)\n",
        "            total += labels.size(0)\n",
        "            correct += (predicted == labels).sum().item()\n",
        "\n",
        "        acc = 100 * correct / total\n",
        "        loss_list.append(running_loss / len(train_loader))\n",
        "        acc_list.append(acc)\n",
        "        print(f'Epoch {epoch + 1}/{num_epochs}:\\t Loss -- {running_loss / len(train_loader):.4f} \\t Accuracy -- {acc}')\n",
        "\n",
        "    return loss_list, acc_list"
      ]
    },
    {
      "cell_type": "code",
      "execution_count": 76,
      "metadata": {
        "colab": {
          "base_uri": "https://localhost:8080/"
        },
        "id": "dr-eCgv4kTDO",
        "outputId": "1e9bccfd-af6a-4cc0-d5b5-302f6c1f4f6c"
      },
      "outputs": [
        {
          "output_type": "stream",
          "name": "stdout",
          "text": [
            "Epoch 1/20:\t Loss -- 1.5393 \t Accuracy -- 44.136\n",
            "Epoch 2/20:\t Loss -- 1.2302 \t Accuracy -- 56.01\n",
            "Epoch 3/20:\t Loss -- 1.1088 \t Accuracy -- 60.832\n",
            "Epoch 4/20:\t Loss -- 1.0310 \t Accuracy -- 63.466\n",
            "Epoch 5/20:\t Loss -- 0.9781 \t Accuracy -- 65.516\n",
            "Epoch 6/20:\t Loss -- 0.9295 \t Accuracy -- 67.316\n",
            "Epoch 7/20:\t Loss -- 0.8919 \t Accuracy -- 68.978\n",
            "Epoch 8/20:\t Loss -- 0.8576 \t Accuracy -- 69.862\n",
            "Epoch 9/20:\t Loss -- 0.8332 \t Accuracy -- 70.792\n",
            "Epoch 10/20:\t Loss -- 0.8013 \t Accuracy -- 71.994\n",
            "Epoch 11/20:\t Loss -- 0.7769 \t Accuracy -- 72.638\n",
            "Epoch 12/20:\t Loss -- 0.7573 \t Accuracy -- 73.422\n",
            "Epoch 13/20:\t Loss -- 0.7376 \t Accuracy -- 74.308\n",
            "Epoch 14/20:\t Loss -- 0.7192 \t Accuracy -- 74.988\n",
            "Epoch 15/20:\t Loss -- 0.7002 \t Accuracy -- 75.508\n",
            "Epoch 16/20:\t Loss -- 0.6873 \t Accuracy -- 75.92\n",
            "Epoch 17/20:\t Loss -- 0.6706 \t Accuracy -- 76.602\n",
            "Epoch 18/20:\t Loss -- 0.6614 \t Accuracy -- 77.078\n",
            "Epoch 19/20:\t Loss -- 0.6454 \t Accuracy -- 77.396\n",
            "Epoch 20/20:\t Loss -- 0.6334 \t Accuracy -- 77.786\n",
            "Training duration: 418.62 seconds\t 6.98 minutes\n"
          ]
        }
      ],
      "source": [
        "start_time = time.time()\n",
        "loss_list, acc_list = train_model(model, train_loader, criterion, optimizer, num_epochs=20)\n",
        "end_time = time.time()\n",
        "duration = end_time - start_time\n",
        "print(f'Training duration: {duration:.2f} seconds\\t {(duration / 60):.2f} minutes')\n"
      ]
    },
    {
      "cell_type": "code",
      "source": [
        "fig, axs = plt.subplots(1, 2, figsize=(12, 4))\n",
        "axs[0].plot(range(1, 21), loss_list)\n",
        "axs[0].set_title('Loss')\n",
        "axs[0].set_xlabel('Epoch')\n",
        "axs[0].set_ylabel('Loss')\n",
        "axs[1].plot(range(1, 21), acc_list)\n",
        "axs[1].set_title('Accuracy')\n",
        "axs[1].set_xlabel('Epoch')\n",
        "axs[1].set_ylabel('Accuracy')\n",
        "plt.show()"
      ],
      "metadata": {
        "id": "twqFB18zEI5L",
        "outputId": "570b0d09-8366-4481-bb25-07a9884396bd",
        "colab": {
          "base_uri": "https://localhost:8080/",
          "height": 364
        }
      },
      "execution_count": 77,
      "outputs": [
        {
          "output_type": "display_data",
          "data": {
            "text/plain": [
              "<Figure size 1200x400 with 2 Axes>"
            ],
            "image/png": "[encoded data removed]"
          },
          "metadata": {}
        }
      ]
    },
    {
      "cell_type": "code",
      "execution_count": 78,
      "metadata": {
        "id": "orqrebm0kTDO"
      },
      "outputs": [],
      "source": [
        "def evaluate_model(model, test_loader):\n",
        "    model.eval()\n",
        "    correct = 0\n",
        "    total = 0\n",
        "    with torch.no_grad():\n",
        "        for inputs, labels in test_loader:\n",
        "            inputs, labels = inputs.to(device), labels.to(device)\n",
        "            outputs = model(inputs)\n",
        "            _, predicted = outputs.max(1)\n",
        "            total += labels.size(0)\n",
        "            correct += (predicted == labels).sum().item()\n",
        "\n",
        "        acc = 100 * correct / total\n",
        "        print(f'Accuracy: {acc:.2f}%')"
      ]
    },
    {
      "cell_type": "code",
      "source": [
        "evaluate_model(model, test_loader)"
      ],
      "metadata": {
        "id": "KcBdRp_g1cpt",
        "outputId": "270245b4-8ac1-4559-b3d8-e7ab9a3d468c",
        "colab": {
          "base_uri": "https://localhost:8080/"
        }
      },
      "execution_count": 79,
      "outputs": [
        {
          "output_type": "stream",
          "name": "stdout",
          "text": [
            "Accuracy: 76.06%\n"
          ]
        }
      ]
    },
    {
      "cell_type": "code",
      "source": [],
      "metadata": {
        "id": "krC7sW-cG-wd"
      },
      "execution_count": 79,
      "outputs": []
    }
  ],
  "metadata": {
    "kernelspec": {
      "display_name": "Python 3",
      "name": "python3"
    },
    "language_info": {
      "codemirror_mode": {
        "name": "ipython",
        "version": 3
      },
      "file_extension": ".py",
      "mimetype": "text/x-python",
      "name": "python",
      "nbconvert_exporter": "python",
      "pygments_lexer": "ipython3",
      "version": "3.11.5"
    },
    "colab": {
      "provenance": [],
      "gpuType": "T4"
    },
    "accelerator": "GPU"
  },
  "nbformat": 4,
  "nbformat_minor": 0
}